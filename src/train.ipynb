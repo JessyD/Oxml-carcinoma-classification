{
 "cells": [
  {
   "cell_type": "code",
   "execution_count": null,
   "id": "7d8fc60f",
   "metadata": {
    "lines_to_next_cell": 1
   },
   "outputs": [],
   "source": [
    "from pathlib import Path\n",
    "import pandas as pd\n",
    "from PIL import Image\n",
    "from torch.utils.data import DataLoader, Dataset\n",
    "import torch\n",
    "from torchvision.transforms import transforms"
   ]
  },
  {
   "cell_type": "code",
   "execution_count": null,
   "id": "373b2ba6",
   "metadata": {
    "lines_to_next_cell": 1
   },
   "outputs": [],
   "source": [
    "class CustomDataset(Dataset):\n",
    "    def __init__(self, data_dir, labels_file, transform=None):\n",
    "        self.data_dir = data_dir\n",
    "        self.labels_df = pd.read_csv(labels_file)\n",
    "        self.transform = transform\n",
    "\n",
    "    def __len__(self):\n",
    "        return len(self.labels_df)\n",
    "\n",
    "    def __getitem__(self, idx):\n",
    "        img_path = self.data_dir, f\"img_{self.labels_df.iloc[idx]['id']}.png\"\n",
    "        image = Image.open(img_path).convert('RGB')\n",
    "        label = self.labels_df.iloc[idx]['malignant'] + 1\n",
    "\n",
    "        if self.transform:\n",
    "            image = self.transform(image)\n",
    "\n",
    "        return image, label"
   ]
  },
  {
   "cell_type": "code",
   "execution_count": null,
   "id": "e532a284",
   "metadata": {},
   "outputs": [],
   "source": [
    "# Set random seed for reproducibility\n",
    "torch.manual_seed(2)"
   ]
  },
  {
   "cell_type": "code",
   "execution_count": null,
   "id": "baed2ef2",
   "metadata": {},
   "outputs": [],
   "source": [
    "# read in the data\n",
    "data_dir = Path(\"../data/oxml-carinoma-classification\")"
   ]
  },
  {
   "cell_type": "code",
   "execution_count": null,
   "id": "5eb7f243",
   "metadata": {},
   "outputs": [],
   "source": [
    "data_df = pd.read_csv(data_dir / 'labels.cvs')"
   ]
  },
  {
   "cell_type": "code",
   "execution_count": null,
   "id": "41cb0641",
   "metadata": {},
   "outputs": [],
   "source": [
    "# Define any image transformations if needed\n",
    "# transform = torchvision.transforms.Compose([...])\n",
    "transform = transforms.Compose([\n",
    "    transforms.Resize((224, 224)),\n",
    "    transforms.ToTensor(),\n",
    "    transforms.Normalize((0.5, 0.5, 0.5), (0.5, 0.5, 0.5))\n",
    "])"
   ]
  },
  {
   "cell_type": "code",
   "execution_count": null,
   "id": "347c6c07",
   "metadata": {},
   "outputs": [],
   "source": [
    "# Create the custom dataset\n",
    "dataset = CustomDataset(image_dir, labels_file, transform)"
   ]
  },
  {
   "cell_type": "code",
   "execution_count": null,
   "id": "14dbd1af",
   "metadata": {},
   "outputs": [],
   "source": [
    "# Create the data loader\n",
    "batch_size = 32\n",
    "dataloader = DataLoader(dataset, batch_size=batch_size, shuffle=True)"
   ]
  }
 ],
 "metadata": {
  "jupytext": {
   "cell_metadata_filter": "-all",
   "formats": "ipynb,py",
   "main_language": "python"
  }
 },
 "nbformat": 4,
 "nbformat_minor": 5
}
